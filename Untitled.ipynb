{
 "cells": [
  {
   "cell_type": "code",
   "execution_count": 4,
   "id": "429fbcbc",
   "metadata": {},
   "outputs": [],
   "source": [
    "#Evaluacion_1"
   ]
  },
  {
   "cell_type": "code",
   "execution_count": 6,
   "id": "ab6238bf",
   "metadata": {},
   "outputs": [],
   "source": [
    "import pandas as pd\n",
    "deudapbiLink='https://github.com/ZairaYacsavilca/evaluaci-n_1/raw/main/data/variable_deuda_PBI.csv'\n",
    "gastosaludLink='https://github.com/ZairaYacsavilca/evaluaci-n_1/raw/main/data/variable_gasto_salud.csv'\n",
    "hdiLink='https://github.com/ZairaYacsavilca/evaluaci-n_1/raw/main/data/Variable_Naciones_Unidas.csv'\n",
    "\n",
    "deudapbi=pd.read_csv(deudapbiLink)\n",
    "gastosalud=pd.read_csv(gastosaludLink)\n",
    "hdi=pd.read_csv(hdiLink)"
   ]
  },
  {
   "cell_type": "code",
   "execution_count": 7,
   "id": "009c7c5c",
   "metadata": {},
   "outputs": [
    {
     "data": {
      "text/plain": [
       "((190, 2), (192, 2), (193, 2))"
      ]
     },
     "execution_count": 7,
     "metadata": {},
     "output_type": "execute_result"
    }
   ],
   "source": [
    "deudapbi.shape,gastosalud.shape,hdi.shape"
   ]
  },
  {
   "cell_type": "code",
   "execution_count": 8,
   "id": "639e9dec",
   "metadata": {},
   "outputs": [
    {
     "data": {
      "text/plain": [
       "(Index(['Countries', 'Debt ($M)'], dtype='object'),\n",
       " Index(['Countries', 'Gov. Health Exp.($M)'], dtype='object'),\n",
       " Index(['Countries', 'HDI'], dtype='object'))"
      ]
     },
     "execution_count": 8,
     "metadata": {},
     "output_type": "execute_result"
    }
   ],
   "source": [
    "deudapbi.columns,gastosalud.columns,hdi.columns"
   ]
  },
  {
   "cell_type": "code",
   "execution_count": 22,
   "id": "209c0dd7",
   "metadata": {},
   "outputs": [
    {
     "data": {
      "text/html": [
       "<div>\n",
       "<style scoped>\n",
       "    .dataframe tbody tr th:only-of-type {\n",
       "        vertical-align: middle;\n",
       "    }\n",
       "\n",
       "    .dataframe tbody tr th {\n",
       "        vertical-align: top;\n",
       "    }\n",
       "\n",
       "    .dataframe thead th {\n",
       "        text-align: right;\n",
       "    }\n",
       "</style>\n",
       "<table border=\"1\" class=\"dataframe\">\n",
       "  <thead>\n",
       "    <tr style=\"text-align: right;\">\n",
       "      <th></th>\n",
       "      <th>Countries</th>\n",
       "      <th>Debt ($M)</th>\n",
       "      <th>Gov. Health Exp.($M)</th>\n",
       "      <th>HDI</th>\n",
       "    </tr>\n",
       "  </thead>\n",
       "  <tbody>\n",
       "    <tr>\n",
       "      <th>0</th>\n",
       "      <td>United States [+]</td>\n",
       "      <td>29,476,402</td>\n",
       "      <td>3,590,550,278,000.00</td>\n",
       "      <td>0.921</td>\n",
       "    </tr>\n",
       "    <tr>\n",
       "      <th>1</th>\n",
       "      <td>United Kingdom [+]</td>\n",
       "      <td>3,151,536</td>\n",
       "      <td>87,073,157,032.30</td>\n",
       "      <td>0.929</td>\n",
       "    </tr>\n",
       "    <tr>\n",
       "      <th>2</th>\n",
       "      <td>Germany [+]</td>\n",
       "      <td>2,711,576</td>\n",
       "      <td>445,746,483,000.00</td>\n",
       "      <td>0.942</td>\n",
       "    </tr>\n",
       "    <tr>\n",
       "      <th>3</th>\n",
       "      <td>France [+]</td>\n",
       "      <td>3,106,402</td>\n",
       "      <td>279,900,617,256.00</td>\n",
       "      <td>0.903</td>\n",
       "    </tr>\n",
       "    <tr>\n",
       "      <th>4</th>\n",
       "      <td>Japan [+]</td>\n",
       "      <td>12,783,842</td>\n",
       "      <td>213,703,956,338.90</td>\n",
       "      <td>0.925</td>\n",
       "    </tr>\n",
       "    <tr>\n",
       "      <th>...</th>\n",
       "      <td>...</td>\n",
       "      <td>...</td>\n",
       "      <td>...</td>\n",
       "      <td>...</td>\n",
       "    </tr>\n",
       "    <tr>\n",
       "      <th>182</th>\n",
       "      <td>Samoa [+]</td>\n",
       "      <td>364</td>\n",
       "      <td>36.2</td>\n",
       "      <td>0.707</td>\n",
       "    </tr>\n",
       "    <tr>\n",
       "      <th>183</th>\n",
       "      <td>Yemen [+]</td>\n",
       "      <td>18,092</td>\n",
       "      <td>183</td>\n",
       "      <td>0.455</td>\n",
       "    </tr>\n",
       "    <tr>\n",
       "      <th>184</th>\n",
       "      <td>South Africa [+]</td>\n",
       "      <td>288,114</td>\n",
       "      <td>15,210.00</td>\n",
       "      <td>0.713</td>\n",
       "    </tr>\n",
       "    <tr>\n",
       "      <th>185</th>\n",
       "      <td>Zambia [+]</td>\n",
       "      <td>24,538</td>\n",
       "      <td>446.9</td>\n",
       "      <td>0.565</td>\n",
       "    </tr>\n",
       "    <tr>\n",
       "      <th>186</th>\n",
       "      <td>Zimbabwe [+]</td>\n",
       "      <td>1,905,213</td>\n",
       "      <td>732.5</td>\n",
       "      <td>0.593</td>\n",
       "    </tr>\n",
       "  </tbody>\n",
       "</table>\n",
       "<p>187 rows × 4 columns</p>\n",
       "</div>"
      ],
      "text/plain": [
       "              Countries   Debt ($M)  Gov. Health Exp.($M)    HDI\n",
       "0     United States [+]  29,476,402  3,590,550,278,000.00  0.921\n",
       "1    United Kingdom [+]   3,151,536     87,073,157,032.30  0.929\n",
       "2           Germany [+]   2,711,576    445,746,483,000.00  0.942\n",
       "3            France [+]   3,106,402    279,900,617,256.00  0.903\n",
       "4             Japan [+]  12,783,842    213,703,956,338.90  0.925\n",
       "..                  ...         ...                   ...    ...\n",
       "182           Samoa [+]         364                  36.2  0.707\n",
       "183           Yemen [+]      18,092                   183  0.455\n",
       "184    South Africa [+]     288,114             15,210.00  0.713\n",
       "185          Zambia [+]      24,538                 446.9  0.565\n",
       "186        Zimbabwe [+]   1,905,213                 732.5  0.593\n",
       "\n",
       "[187 rows x 4 columns]"
      ]
     },
     "execution_count": 22,
     "metadata": {},
     "output_type": "execute_result"
    }
   ],
   "source": [
    "merge1=deudapbi.merge(gastosalud,how='inner',left_on='Countries',right_on='Countries').merge(hdi,how='inner',left_on='Countries',right_on='Countries')\n",
    "merge1"
   ]
  },
  {
   "cell_type": "code",
   "execution_count": 23,
   "id": "45370017",
   "metadata": {},
   "outputs": [
    {
     "data": {
      "text/plain": [
       "(187, 4)"
      ]
     },
     "execution_count": 23,
     "metadata": {},
     "output_type": "execute_result"
    }
   ],
   "source": [
    "merge1.shape"
   ]
  },
  {
   "cell_type": "code",
   "execution_count": 26,
   "id": "36e82547",
   "metadata": {},
   "outputs": [
    {
     "data": {
      "text/html": [
       "<div>\n",
       "<style scoped>\n",
       "    .dataframe tbody tr th:only-of-type {\n",
       "        vertical-align: middle;\n",
       "    }\n",
       "\n",
       "    .dataframe tbody tr th {\n",
       "        vertical-align: top;\n",
       "    }\n",
       "\n",
       "    .dataframe thead th {\n",
       "        text-align: right;\n",
       "    }\n",
       "</style>\n",
       "<table border=\"1\" class=\"dataframe\">\n",
       "  <thead>\n",
       "    <tr style=\"text-align: right;\">\n",
       "      <th></th>\n",
       "      <th>Country</th>\n",
       "      <th>Debt ($M)</th>\n",
       "      <th>Gov. Health Exp.($M)</th>\n",
       "      <th>HDI</th>\n",
       "    </tr>\n",
       "  </thead>\n",
       "  <tbody>\n",
       "    <tr>\n",
       "      <th>0</th>\n",
       "      <td>United States [+]</td>\n",
       "      <td>29,476,402</td>\n",
       "      <td>3,590,550,278,000.00</td>\n",
       "      <td>0.921</td>\n",
       "    </tr>\n",
       "    <tr>\n",
       "      <th>1</th>\n",
       "      <td>United Kingdom [+]</td>\n",
       "      <td>3,151,536</td>\n",
       "      <td>87,073,157,032.30</td>\n",
       "      <td>0.929</td>\n",
       "    </tr>\n",
       "    <tr>\n",
       "      <th>2</th>\n",
       "      <td>Germany [+]</td>\n",
       "      <td>2,711,576</td>\n",
       "      <td>445,746,483,000.00</td>\n",
       "      <td>0.942</td>\n",
       "    </tr>\n",
       "    <tr>\n",
       "      <th>3</th>\n",
       "      <td>France [+]</td>\n",
       "      <td>3,106,402</td>\n",
       "      <td>279,900,617,256.00</td>\n",
       "      <td>0.903</td>\n",
       "    </tr>\n",
       "    <tr>\n",
       "      <th>4</th>\n",
       "      <td>Japan [+]</td>\n",
       "      <td>12,783,842</td>\n",
       "      <td>213,703,956,338.90</td>\n",
       "      <td>0.925</td>\n",
       "    </tr>\n",
       "    <tr>\n",
       "      <th>...</th>\n",
       "      <td>...</td>\n",
       "      <td>...</td>\n",
       "      <td>...</td>\n",
       "      <td>...</td>\n",
       "    </tr>\n",
       "    <tr>\n",
       "      <th>182</th>\n",
       "      <td>Samoa [+]</td>\n",
       "      <td>364</td>\n",
       "      <td>36.2</td>\n",
       "      <td>0.707</td>\n",
       "    </tr>\n",
       "    <tr>\n",
       "      <th>183</th>\n",
       "      <td>Yemen [+]</td>\n",
       "      <td>18,092</td>\n",
       "      <td>183</td>\n",
       "      <td>0.455</td>\n",
       "    </tr>\n",
       "    <tr>\n",
       "      <th>184</th>\n",
       "      <td>South Africa [+]</td>\n",
       "      <td>288,114</td>\n",
       "      <td>15,210.00</td>\n",
       "      <td>0.713</td>\n",
       "    </tr>\n",
       "    <tr>\n",
       "      <th>185</th>\n",
       "      <td>Zambia [+]</td>\n",
       "      <td>24,538</td>\n",
       "      <td>446.9</td>\n",
       "      <td>0.565</td>\n",
       "    </tr>\n",
       "    <tr>\n",
       "      <th>186</th>\n",
       "      <td>Zimbabwe [+]</td>\n",
       "      <td>1,905,213</td>\n",
       "      <td>732.5</td>\n",
       "      <td>0.593</td>\n",
       "    </tr>\n",
       "  </tbody>\n",
       "</table>\n",
       "<p>187 rows × 4 columns</p>\n",
       "</div>"
      ],
      "text/plain": [
       "                Country   Debt ($M)  Gov. Health Exp.($M)    HDI\n",
       "0     United States [+]  29,476,402  3,590,550,278,000.00  0.921\n",
       "1    United Kingdom [+]   3,151,536     87,073,157,032.30  0.929\n",
       "2           Germany [+]   2,711,576    445,746,483,000.00  0.942\n",
       "3            France [+]   3,106,402    279,900,617,256.00  0.903\n",
       "4             Japan [+]  12,783,842    213,703,956,338.90  0.925\n",
       "..                  ...         ...                   ...    ...\n",
       "182           Samoa [+]         364                  36.2  0.707\n",
       "183           Yemen [+]      18,092                   183  0.455\n",
       "184    South Africa [+]     288,114             15,210.00  0.713\n",
       "185          Zambia [+]      24,538                 446.9  0.565\n",
       "186        Zimbabwe [+]   1,905,213                 732.5  0.593\n",
       "\n",
       "[187 rows x 4 columns]"
      ]
     },
     "execution_count": 26,
     "metadata": {},
     "output_type": "execute_result"
    }
   ],
   "source": [
    "merge1=merge1.rename(columns={\"Countries\": \"Country\"})\n",
    "merge1"
   ]
  },
  {
   "cell_type": "code",
   "execution_count": 28,
   "id": "4035d9c5",
   "metadata": {},
   "outputs": [
    {
     "ename": "AttributeError",
     "evalue": "'DataFrame' object has no attribute 'country'",
     "output_type": "error",
     "traceback": [
      "\u001b[1;31m---------------------------------------------------------------------------\u001b[0m",
      "\u001b[1;31mAttributeError\u001b[0m                            Traceback (most recent call last)",
      "\u001b[1;32m~\\AppData\\Local\\Temp\\ipykernel_9020\\176064006.py\u001b[0m in \u001b[0;36m?\u001b[1;34m()\u001b[0m\n\u001b[1;32m----> 1\u001b[1;33m \u001b[0mmerge1\u001b[0m\u001b[1;33m.\u001b[0m\u001b[0mcountry\u001b[0m\u001b[1;33m[\u001b[0m\u001b[0mmerge1\u001b[0m\u001b[1;33m.\u001b[0m\u001b[0mcountry\u001b[0m\u001b[1;33m.\u001b[0m\u001b[0mstr\u001b[0m\u001b[1;33m.\u001b[0m\u001b[0mcontains\u001b[0m\u001b[1;33m(\u001b[0m\u001b[0mpat\u001b[0m\u001b[1;33m=\u001b[0m\u001b[1;34mr'[[+]]'\u001b[0m\u001b[1;33m,\u001b[0m\u001b[0mregex\u001b[0m\u001b[1;33m=\u001b[0m\u001b[1;32mTrue\u001b[0m\u001b[1;33m)\u001b[0m\u001b[1;33m]\u001b[0m\u001b[1;33m\u001b[0m\u001b[1;33m\u001b[0m\u001b[0m\n\u001b[0m",
      "\u001b[1;32m~\\anaconda3\\envs\\SDS_2023_2_ZairaOsores\\Lib\\site-packages\\pandas\\core\\generic.py\u001b[0m in \u001b[0;36m?\u001b[1;34m(self, name)\u001b[0m\n\u001b[0;32m   5985\u001b[0m             \u001b[1;32mand\u001b[0m \u001b[0mname\u001b[0m \u001b[1;32mnot\u001b[0m \u001b[1;32min\u001b[0m \u001b[0mself\u001b[0m\u001b[1;33m.\u001b[0m\u001b[0m_accessors\u001b[0m\u001b[1;33m\u001b[0m\u001b[1;33m\u001b[0m\u001b[0m\n\u001b[0;32m   5986\u001b[0m             \u001b[1;32mand\u001b[0m \u001b[0mself\u001b[0m\u001b[1;33m.\u001b[0m\u001b[0m_info_axis\u001b[0m\u001b[1;33m.\u001b[0m\u001b[0m_can_hold_identifiers_and_holds_name\u001b[0m\u001b[1;33m(\u001b[0m\u001b[0mname\u001b[0m\u001b[1;33m)\u001b[0m\u001b[1;33m\u001b[0m\u001b[1;33m\u001b[0m\u001b[0m\n\u001b[0;32m   5987\u001b[0m         ):\n\u001b[0;32m   5988\u001b[0m             \u001b[1;32mreturn\u001b[0m \u001b[0mself\u001b[0m\u001b[1;33m[\u001b[0m\u001b[0mname\u001b[0m\u001b[1;33m]\u001b[0m\u001b[1;33m\u001b[0m\u001b[1;33m\u001b[0m\u001b[0m\n\u001b[1;32m-> 5989\u001b[1;33m         \u001b[1;32mreturn\u001b[0m \u001b[0mobject\u001b[0m\u001b[1;33m.\u001b[0m\u001b[0m__getattribute__\u001b[0m\u001b[1;33m(\u001b[0m\u001b[0mself\u001b[0m\u001b[1;33m,\u001b[0m \u001b[0mname\u001b[0m\u001b[1;33m)\u001b[0m\u001b[1;33m\u001b[0m\u001b[1;33m\u001b[0m\u001b[0m\n\u001b[0m",
      "\u001b[1;31mAttributeError\u001b[0m: 'DataFrame' object has no attribute 'country'"
     ]
    }
   ],
   "source": [
    "merge1.country[merge1.country.str.contains(pat=r'[[+]]',regex=True)]"
   ]
  },
  {
   "cell_type": "code",
   "execution_count": 24,
   "id": "12e8c17c",
   "metadata": {},
   "outputs": [],
   "source": [
    "import pandas as pd\n",
    "countryLink='https://github.com/ZairaYacsavilca/evaluaci-n_1/raw/main/data/country_isos.csv'\n",
    "\n",
    "country=pd.read_csv(countryLink)"
   ]
  },
  {
   "cell_type": "code",
   "execution_count": null,
   "id": "8a613be2",
   "metadata": {},
   "outputs": [],
   "source": []
  }
 ],
 "metadata": {
  "kernelspec": {
   "display_name": "Python 3 (ipykernel)",
   "language": "python",
   "name": "python3"
  },
  "language_info": {
   "codemirror_mode": {
    "name": "ipython",
    "version": 3
   },
   "file_extension": ".py",
   "mimetype": "text/x-python",
   "name": "python",
   "nbconvert_exporter": "python",
   "pygments_lexer": "ipython3",
   "version": "3.11.4"
  }
 },
 "nbformat": 4,
 "nbformat_minor": 5
}
