{
 "cells": [
  {
   "cell_type": "code",
   "execution_count": 4,
   "id": "5aa7c230",
   "metadata": {},
   "outputs": [],
   "source": [
    "#Evaluacion_1"
   ]
  },
  {
   "cell_type": "code",
   "execution_count": 6,
   "id": "764f9cb1",
   "metadata": {},
   "outputs": [],
   "source": [
    "import pandas as pd\n",
    "deudapbiLink='https://github.com/ZairaYacsavilca/evaluaci-n_1/raw/main/data/variable_deuda_PBI.csv'\n",
    "gastosaludLink='https://github.com/ZairaYacsavilca/evaluaci-n_1/raw/main/data/variable_gasto_salud.csv'\n",
    "hdiLink='https://github.com/ZairaYacsavilca/evaluaci-n_1/raw/main/data/Variable_Naciones_Unidas.csv'\n",
    "\n",
    "deudapbi=pd.read_csv(deudapbiLink)\n",
    "gastosalud=pd.read_csv(gastosaludLink)\n",
    "hdi=pd.read_csv(hdiLink)"
   ]
  },
  {
   "cell_type": "code",
   "execution_count": 7,
   "id": "f9ab4296",
   "metadata": {},
   "outputs": [
    {
     "data": {
      "text/plain": [
       "((190, 2), (192, 2), (193, 2))"
      ]
     },
     "execution_count": 7,
     "metadata": {},
     "output_type": "execute_result"
    }
   ],
   "source": [
    "deudapbi.shape,gastosalud.shape,hdi.shape"
   ]
  },
  {
   "cell_type": "code",
   "execution_count": 8,
   "id": "a9ae08ec",
   "metadata": {},
   "outputs": [
    {
     "data": {
      "text/plain": [
       "(Index(['Countries', 'Debt ($M)'], dtype='object'),\n",
       " Index(['Countries', 'Gov. Health Exp.($M)'], dtype='object'),\n",
       " Index(['Countries', 'HDI'], dtype='object'))"
      ]
     },
     "execution_count": 8,
     "metadata": {},
     "output_type": "execute_result"
    }
   ],
   "source": [
    "deudapbi.columns,gastosalud.columns,hdi.columns"
   ]
  },
  {
   "cell_type": "code",
   "execution_count": null,
   "id": "ebf71c1a",
   "metadata": {},
   "outputs": [],
   "source": [
    "co2.merge(forest,how='left',left_on='name',right_on='Country').shape"
   ]
  }
 ],
 "metadata": {
  "kernelspec": {
   "display_name": "Python 3 (ipykernel)",
   "language": "python",
   "name": "python3"
  },
  "language_info": {
   "codemirror_mode": {
    "name": "ipython",
    "version": 3
   },
   "file_extension": ".py",
   "mimetype": "text/x-python",
   "name": "python",
   "nbconvert_exporter": "python",
   "pygments_lexer": "ipython3",
   "version": "3.11.4"
  }
 },
 "nbformat": 4,
 "nbformat_minor": 5
}
